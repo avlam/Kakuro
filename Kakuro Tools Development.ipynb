{
 "cells": [
  {
   "cell_type": "code",
   "execution_count": 1,
   "id": "1968fdaf",
   "metadata": {},
   "outputs": [],
   "source": [
    "import numpy as np\n",
    "import itertools"
   ]
  },
  {
   "cell_type": "code",
   "execution_count": 2,
   "id": "9db7b65f",
   "metadata": {},
   "outputs": [],
   "source": [
    "def kakuro_combinations(target_sum, n_digits):\n",
    "    output=set()\n",
    "#     check if valid\n",
    "    min_set = tuple(x+1 for x in range(n_digits))\n",
    "    max_set = tuple(9-x for x in range(n_digits))\n",
    "    min_sum = sum(min_set)\n",
    "    max_sum = sum(max_set)\n",
    "    if (target_sum > max_sum) or (target_sum < min_sum):\n",
    "        print(f'{target_sum} is invalid for {n_digits}')\n",
    "    elif target_sum == min_sum:\n",
    "        print(f'minimum set for {target_sum}')\n",
    "        output.add(min_set)\n",
    "    elif target_sum == max_sum:\n",
    "        print(f'maximum set for {target_sum}')\n",
    "        output.add(max_set)\n",
    "    else:\n",
    "        digits = np.array([i for i in range(1,10)])\n",
    "        choose = [1 if i<=n_digits else 0 for i in range(1,10)]\n",
    "        guesses = list(set(itertools.permutations(choose)))\n",
    "        for guess in guesses:\n",
    "            if np.matmul(guess,digits) == target_sum:\n",
    "                combo = guess*digits\n",
    "                combo = combo[combo != 0]\n",
    "                output.add(tuple(combo))\n",
    "    return output"
   ]
  },
  {
   "cell_type": "code",
   "execution_count": 14,
   "id": "1684e1c9",
   "metadata": {},
   "outputs": [
    {
     "data": {
      "text/plain": [
       "{(1, 2, 3, 4, 7), (1, 2, 3, 5, 6)}"
      ]
     },
     "execution_count": 14,
     "metadata": {},
     "output_type": "execute_result"
    }
   ],
   "source": [
    "kakuro_combinations(17,5)"
   ]
  },
  {
   "cell_type": "code",
   "execution_count": null,
   "id": "48f98fa2",
   "metadata": {},
   "outputs": [],
   "source": []
  }
 ],
 "metadata": {
  "hide_input": false,
  "kernelspec": {
   "display_name": "Python 3",
   "language": "python",
   "name": "python3"
  },
  "language_info": {
   "codemirror_mode": {
    "name": "ipython",
    "version": 3
   },
   "file_extension": ".py",
   "mimetype": "text/x-python",
   "name": "python",
   "nbconvert_exporter": "python",
   "pygments_lexer": "ipython3",
   "version": "3.9.5"
  },
  "toc": {
   "base_numbering": 1,
   "nav_menu": {},
   "number_sections": true,
   "sideBar": true,
   "skip_h1_title": false,
   "title_cell": "Table of Contents",
   "title_sidebar": "Contents",
   "toc_cell": false,
   "toc_position": {},
   "toc_section_display": true,
   "toc_window_display": false
  },
  "varInspector": {
   "cols": {
    "lenName": 16,
    "lenType": 16,
    "lenVar": 40
   },
   "kernels_config": {
    "python": {
     "delete_cmd_postfix": "",
     "delete_cmd_prefix": "del ",
     "library": "var_list.py",
     "varRefreshCmd": "print(var_dic_list())"
    },
    "r": {
     "delete_cmd_postfix": ") ",
     "delete_cmd_prefix": "rm(",
     "library": "var_list.r",
     "varRefreshCmd": "cat(var_dic_list()) "
    }
   },
   "types_to_exclude": [
    "module",
    "function",
    "builtin_function_or_method",
    "instance",
    "_Feature"
   ],
   "window_display": false
  }
 },
 "nbformat": 4,
 "nbformat_minor": 5
}
