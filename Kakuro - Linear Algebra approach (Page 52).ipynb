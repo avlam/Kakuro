{
 "cells": [
  {
   "cell_type": "markdown",
   "id": "8927e4ad",
   "metadata": {},
   "source": [
    "Idea: Since Kakuro puzzles can expressed as a system of equations of sums, can linear algebra be used to simultaneously solve all unknowns? This is both an exploration of ways to build a Kakuro puzzle solver in general, as well as a review of linear algebra and matrix math."
   ]
  },
  {
   "cell_type": "markdown",
   "id": "599b3f68",
   "metadata": {},
   "source": [
    "# The Puzzle\n",
    "Specific Puzzle: Page 52 of \"The Book of Kakuro\""
   ]
  },
  {
   "cell_type": "markdown",
   "id": "c032adb0",
   "metadata": {},
   "source": [
    "|Puz|5\\\\|14\\\\|17\\\\|39\\\\|6\\\\|x|x|25\\\\|14\\\\|\n",
    "|---|---|---|---|---|---|---|---|---|---|\n",
    "|\\\\19|?|?|?|?|?|30\\\\|\\\\11|?|?|\n",
    "|\\22|?|?|?|?|?|?|15\\\\10|?|?|\n",
    "|x|x|30\\\\42|?|?|?|?|?|?|?|\n",
    "|x|7\\\\23|?|?|?|20\\\\8|?|?|?|x|\n",
    "|\\\\33|?|?|?|?|?|?|?|16\\\\|7\\\\|\n",
    "|\\\\12|?|?|\\\\23|?|?|?|?|?|?|\n",
    "|\\\\7|?|?|x|\\\\35|?|?|?|?|?|"
   ]
  },
  {
   "cell_type": "markdown",
   "id": "95df7c21",
   "metadata": {},
   "source": [
    "14 down equations\n",
    "\n",
    "12 across equations\n",
    "\n",
    "50 unknowns\n",
    "\n",
    "will need to create a 26x50 matrix of unknowns to solve at once. (Need to generate 24 more equations somewhere to make matrix square and invertible)"
   ]
  },
  {
   "cell_type": "markdown",
   "id": "997028e6",
   "metadata": {},
   "source": [
    "## Converted to variables"
   ]
  },
  {
   "cell_type": "markdown",
   "id": "4fc5a43b",
   "metadata": {},
   "source": [
    "|Puz|d1\\\\|d2\\\\|d3\\\\|d4\\\\|d5\\\\|x|x|d6\\\\|d7\\\\|\n",
    "|---|---|---|---|---|---|---|---|---|---|\n",
    "|\\\\a1|1|2|3|4|5|d8\\\\|\\\\a2|6|7|\n",
    "|\\a3|8|9|10|11|12|13|d9\\\\a4|14|15|\n",
    "|x|x|d10\\\\a5|16|17|18|19|20|21|22|\n",
    "|x|d11\\\\a6|23|24|25|d12\\\\a7|26|27|28|x|\n",
    "|\\\\a8|29|30|31|32|33|34|35|d13\\\\|d14\\\\|\n",
    "|\\\\a9|36|37|\\\\a10|38|39|40|41|42|43|\n",
    "|\\\\a11|44|45|x|\\\\a12|46|47|48|49|50|"
   ]
  },
  {
   "cell_type": "code",
   "execution_count": 1,
   "id": "30050632",
   "metadata": {},
   "outputs": [],
   "source": [
    "import numpy as np"
   ]
  },
  {
   "cell_type": "markdown",
   "id": "1c034490",
   "metadata": {},
   "source": [
    "Structure \"sums\" as a vertical array [d_1,d_2,...,d_n,a_1,a_2,...,a_m]"
   ]
  },
  {
   "cell_type": "code",
   "execution_count": 2,
   "id": "a6c193c3",
   "metadata": {},
   "outputs": [],
   "source": [
    "sums = np.asmatrix([5,14,17,39,6,25,14,30,15,30,7,20,16,7,19,11,22,10,42,23,8,33,12,23,7,35]).transpose()\n",
    "relations = np.zeros([26,50])"
   ]
  },
  {
   "cell_type": "code",
   "execution_count": 3,
   "id": "838c2989",
   "metadata": {},
   "outputs": [],
   "source": [
    "equations = {\n",
    "    'd1': [1,8],\n",
    "    'd2': [2,9],\n",
    "    'd3': [3,10,16,24,31],\n",
    "    'd4': [4,11,17,25,32,38],\n",
    "    'd5': [5,12,18],\n",
    "    'd6': [6,14,21,28],\n",
    "    'd7': [7,15,22],\n",
    "    'd8': [13,19,26,34,40,47],\n",
    "    'd9': [20,27,35,41,48],\n",
    "    'd10': [23,30,37,45],\n",
    "    'd11': [29,36,44],\n",
    "    'd12': [33,39,46],\n",
    "    'd13': [42,49],\n",
    "    'd14': [43,50],\n",
    "    'a1': [1,2,3,4,5],\n",
    "    'a2': [6,7],\n",
    "    'a3': [8,9,10,11,12,13],\n",
    "    'a4': [14,15],\n",
    "    'a5': [16,17,18,19,20,21,22],\n",
    "    'a6': [23,24,25],\n",
    "    'a7': [26,27,28],\n",
    "    'a8': [29,30,31,32,33,34,35],\n",
    "    'a9': [36,37],\n",
    "    'a10': [38,39,40,41,42,43],\n",
    "    'a11': [44,45],\n",
    "    'a12': [46,47,48,49,50],\n",
    "}"
   ]
  },
  {
   "cell_type": "markdown",
   "id": "4fd83674",
   "metadata": {},
   "source": [
    "A quick checksum for entry into equations. Each variable should be used twice -> for 50 unknowns I should have 100 entries across all equations."
   ]
  },
  {
   "cell_type": "code",
   "execution_count": 8,
   "id": "8cdef4ac",
   "metadata": {},
   "outputs": [
    {
     "data": {
      "text/plain": [
       "100"
      ]
     },
     "execution_count": 8,
     "metadata": {},
     "output_type": "execute_result"
    }
   ],
   "source": [
    "sum([len(x) for x in equations.values()])"
   ]
  },
  {
   "cell_type": "code",
   "execution_count": 4,
   "id": "67ce107a",
   "metadata": {},
   "outputs": [],
   "source": [
    "for eq, (key, unknowns) in enumerate(equations.items()):\n",
    "#     print(eq,key,unknowns)\n",
    "    for unknown in unknowns:\n",
    "        relations[eq,unknown-1] = 1 #correct for 1-index of unknowns to 0 index convention"
   ]
  },
  {
   "cell_type": "markdown",
   "id": "ef392bbc",
   "metadata": {},
   "source": [
    "Problem: with 26 equations and 50 unknowns, there aren't enough equations to simultaneously solve using a inverse matrix of relations. Will either need to generate 24 more equations somehow leveraging the properties of non-repeating digits or will need to change method."
   ]
  },
  {
   "cell_type": "code",
   "execution_count": 7,
   "id": "35f61b08",
   "metadata": {},
   "outputs": [
    {
     "data": {
      "text/plain": [
       "25"
      ]
     },
     "execution_count": 7,
     "metadata": {},
     "output_type": "execute_result"
    }
   ],
   "source": [
    "np.linalg.matrix_rank(relations)"
   ]
  },
  {
   "cell_type": "markdown",
   "id": "53ce2de8",
   "metadata": {},
   "source": [
    "Rank of the relations dictates how many linearly independent equations are defined by the puzzle. If the rank is 25 despite 26 input equations, one is a linear combination of other equations. Conveniently, 25 is half of the unknowns... can this info be used somehow to transform relations to a square matrix?"
   ]
  },
  {
   "cell_type": "markdown",
   "id": "43112f1e",
   "metadata": {},
   "source": [
    "Every equation in Kakuro has a \"complementary\" equation, using the remaining of the digits [1-9] adding up to 45-sum(original equation). If added into set of equations, this should provide another 26 equations (assuming no 45 sums are in the puzzle)"
   ]
  },
  {
   "cell_type": "code",
   "execution_count": 11,
   "id": "05a5c004",
   "metadata": {},
   "outputs": [],
   "source": [
    "info = {\n",
    "    'd1': {\n",
    "        'unknowns': [1,8],\n",
    "        'total': 5,\n",
    "        'digits': 2,\n",
    "          },\n",
    "    'd2': {\n",
    "        'unknowns': [2,9],\n",
    "        'total': 14,\n",
    "        'digits': 2,\n",
    "          },\n",
    "    'd3': {\n",
    "        'unknowns': [3,10,16,24,31],\n",
    "        'total': 17,\n",
    "        'digits': 5,\n",
    "          },\n",
    "    'd4': {\n",
    "        'unknowns': [4,11,17,25,32,38],\n",
    "        'total': 39,\n",
    "        'digits': 6,\n",
    "          },\n",
    "    'd5': {\n",
    "        'unknowns': [5,12,18],\n",
    "        'total': 6,\n",
    "        'digits': 3,\n",
    "          },\n",
    "    'd6': {\n",
    "        'unknowns': [6,14,21,28],\n",
    "        'total': 25,\n",
    "        'digits': 4,\n",
    "          },\n",
    "    'd7': {\n",
    "        'unknowns': [7,15,22],\n",
    "        'total': 14,\n",
    "        'digits': 3,\n",
    "          },\n",
    "    'd8': {\n",
    "        'unknowns': [13,19,26,34,40,47],\n",
    "        'total': 30,\n",
    "        'digits': 6,\n",
    "          },\n",
    "    'd9': {\n",
    "        'unknowns': [20,27,35,41,48],\n",
    "        'total': 15,\n",
    "        'digits': 5,\n",
    "          },\n",
    "    'd10': {\n",
    "        'unknowns': [23,30,37,45],\n",
    "        'total': 30,\n",
    "        'digits': 4,\n",
    "          },\n",
    "    'd11': {\n",
    "        'unknowns': [29,36,44],\n",
    "        'total': 7,\n",
    "        'digits': 3,\n",
    "          },\n",
    "    'd12': {\n",
    "        'unknowns': [33,39,46],\n",
    "        'total': 20,\n",
    "        'digits': 3,\n",
    "          },\n",
    "    'd13': {\n",
    "        'unknowns': [42,49],\n",
    "        'total': 16,\n",
    "        'digits': 2,\n",
    "          },\n",
    "    'd14': {\n",
    "        'unknowns': [43,50],\n",
    "        'total': 7,\n",
    "        'digits': 2,\n",
    "          },\n",
    "    'a1': {\n",
    "        'unknowns': [1,2,3,4,5],\n",
    "        'total': 19,\n",
    "        'digits': 5,\n",
    "          },\n",
    "    'a2': {\n",
    "        'unknowns': [6,7],\n",
    "        'total': 11,\n",
    "        'digits': 2,\n",
    "          },\n",
    "    'a3': {\n",
    "        'unknowns': [8,9,10,11,12,13],\n",
    "        'total': 22,\n",
    "        'digits': 6,\n",
    "          },\n",
    "    'a4': {\n",
    "        'unknowns': [14,15],\n",
    "        'total': 10,\n",
    "        'digits': 2,\n",
    "          },\n",
    "    'a5': {\n",
    "        'unknowns': [16,17,18,19,20,21,22],\n",
    "        'total': 42,\n",
    "        'digits': 7,\n",
    "          },\n",
    "    'a6': {\n",
    "        'unknowns': [23,24,25],\n",
    "        'total': 23,\n",
    "        'digits': 3,\n",
    "          },\n",
    "    'a7': {\n",
    "        'unknowns': [26,27,28],\n",
    "        'total': 8,\n",
    "        'digits': 3,\n",
    "          },\n",
    "    'a8': {\n",
    "        'unknowns': [29,30,31,32,33,34,35],\n",
    "        'total': 33,\n",
    "        'digits': 7,\n",
    "          },\n",
    "    'a9': {\n",
    "        'unknowns': [36,37],\n",
    "        'total': 12,\n",
    "        'digits': 2,\n",
    "          },\n",
    "    'a10': {\n",
    "        'unknowns': [38,39,40,41,42,43],\n",
    "        'total': 23,\n",
    "        'digits': 6,\n",
    "          },\n",
    "    'a11': {\n",
    "        'unknowns': [44,45],\n",
    "        'total': 7,\n",
    "        'digits': 2,\n",
    "          },\n",
    "    'a12': {\n",
    "        'unknowns': [46,47,48,49,50],\n",
    "        'total': 35,\n",
    "        'digits': 5,\n",
    "          },\n",
    "}"
   ]
  },
  {
   "cell_type": "code",
   "execution_count": null,
   "id": "5bcc9ce4",
   "metadata": {},
   "outputs": [],
   "source": []
  }
 ],
 "metadata": {
  "hide_input": false,
  "kernelspec": {
   "display_name": "Python 3",
   "language": "python",
   "name": "python3"
  },
  "language_info": {
   "codemirror_mode": {
    "name": "ipython",
    "version": 3
   },
   "file_extension": ".py",
   "mimetype": "text/x-python",
   "name": "python",
   "nbconvert_exporter": "python",
   "pygments_lexer": "ipython3",
   "version": "3.9.5"
  },
  "toc": {
   "base_numbering": 1,
   "nav_menu": {},
   "number_sections": true,
   "sideBar": true,
   "skip_h1_title": false,
   "title_cell": "Table of Contents",
   "title_sidebar": "Contents",
   "toc_cell": false,
   "toc_position": {},
   "toc_section_display": true,
   "toc_window_display": false
  },
  "varInspector": {
   "cols": {
    "lenName": 16,
    "lenType": 16,
    "lenVar": 40
   },
   "kernels_config": {
    "python": {
     "delete_cmd_postfix": "",
     "delete_cmd_prefix": "del ",
     "library": "var_list.py",
     "varRefreshCmd": "print(var_dic_list())"
    },
    "r": {
     "delete_cmd_postfix": ") ",
     "delete_cmd_prefix": "rm(",
     "library": "var_list.r",
     "varRefreshCmd": "cat(var_dic_list()) "
    }
   },
   "types_to_exclude": [
    "module",
    "function",
    "builtin_function_or_method",
    "instance",
    "_Feature"
   ],
   "window_display": false
  }
 },
 "nbformat": 4,
 "nbformat_minor": 5
}
